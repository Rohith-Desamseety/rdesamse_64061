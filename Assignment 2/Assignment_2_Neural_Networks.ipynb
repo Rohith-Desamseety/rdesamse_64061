{
  "nbformat": 4,
  "nbformat_minor": 0,
  "metadata": {
    "colab": {
      "provenance": [],
      "machine_shape": "hm"
    },
    "kernelspec": {
      "name": "python3",
      "display_name": "Python 3"
    },
    "language_info": {
      "name": "python"
    },
    "gpuClass": "standard"
  },
  "cells": [
    {
      "cell_type": "code",
      "execution_count": null,
      "metadata": {
        "id": "ktRA_XZ7vmfc"
      },
      "outputs": [],
      "source": []
    },
    {
      "cell_type": "markdown",
      "source": [
        "**Neural Network model**\n",
        "\n",
        "Loading the required packages"
      ],
      "metadata": {
        "id": "MgpmGp4kvqDq"
      }
    },
    {
      "cell_type": "code",
      "source": [
        "import seaborn as sns\n",
        "import matplotlib.pyplot as plt\n",
        "%matplotlib inline\n",
        "#IMPORTING THE IMDB DATASET\n",
        "from tensorflow.keras.datasets import imdb\n",
        "(train_data, train_labels), (test_data, test_labels) = imdb.load_data(\n",
        "    num_words=10000)\n",
        "train_data[0]\n",
        "train_labels[0]\n",
        "max([max(sequence) for sequence in train_data])"
      ],
      "metadata": {
        "colab": {
          "base_uri": "https://localhost:8080/"
        },
        "id": "KW8HuimKvzl5",
        "outputId": "b9485451-1c7b-47fe-a74a-f330a50f6a72"
      },
      "execution_count": 1,
      "outputs": [
        {
          "output_type": "execute_result",
          "data": {
            "text/plain": [
              "9999"
            ]
          },
          "metadata": {},
          "execution_count": 1
        }
      ]
    },
    {
      "cell_type": "markdown",
      "source": [
        "**Decoding reviews back to text**"
      ],
      "metadata": {
        "id": "lG2Ry8epwFvW"
      }
    },
    {
      "cell_type": "code",
      "source": [
        "word_index = imdb.get_word_index()\n",
        "reverse_word_index = dict(\n",
        "    [(value, key) for (key, value) in word_index.items()])\n",
        "decoded_review = \" \".join(\n",
        "    [reverse_word_index.get(i - 3, \"?\") for i in train_data[0]])"
      ],
      "metadata": {
        "id": "ugkep6COwIxs"
      },
      "execution_count": 2,
      "outputs": []
    },
    {
      "cell_type": "markdown",
      "source": [
        "**Preparing the data**\n",
        "\n",
        "Encoding the integer sequences via multi-hot encoding"
      ],
      "metadata": {
        "id": "IU_ndSBexYU9"
      }
    },
    {
      "cell_type": "code",
      "source": [
        "import numpy as np\n",
        "def vectorize_sequences(sequences, dimension=10000):\n",
        "    results = np.zeros((len(sequences), dimension))\n",
        "    for i, sequence in enumerate(sequences):\n",
        "        for j in sequence:\n",
        "            results[i, j] = 1.\n",
        "    return results\n",
        "x_train = vectorize_sequences(train_data)\n",
        "x_test = vectorize_sequences(test_data)\n",
        "x_train[0]\n",
        "y_train = np.asarray(train_labels).astype(\"float32\")\n",
        "y_test = np.asarray(test_labels).astype(\"float32\")"
      ],
      "metadata": {
        "id": "C6Z0KCVxxalz"
      },
      "execution_count": 3,
      "outputs": []
    },
    {
      "cell_type": "markdown",
      "source": [
        "**Model 1- Hidden layers= 2, Nodes=16**\n",
        "\n",
        "Model definition"
      ],
      "metadata": {
        "id": "J5A5x1owxptF"
      }
    },
    {
      "cell_type": "code",
      "source": [
        "from tensorflow import keras\n",
        "from tensorflow.keras import layers\n",
        "\n",
        "model = keras.Sequential([\n",
        "    layers.Dense(16, activation=\"tanh\"),\n",
        "    layers.Dense(16, activation=\"tanh\"),\n",
        "    layers.Dense(1, activation=\"sigmoid\")\n",
        "])"
      ],
      "metadata": {
        "id": "xfvytzbxxr_L"
      },
      "execution_count": 4,
      "outputs": []
    },
    {
      "cell_type": "markdown",
      "source": [
        "**Compiling the model**"
      ],
      "metadata": {
        "id": "JQBnEO2kxxfv"
      }
    },
    {
      "cell_type": "code",
      "source": [
        "model.compile(optimizer=\"rmsprop\",\n",
        "              loss=\"mse\",\n",
        "              metrics=[\"accuracy\"])"
      ],
      "metadata": {
        "id": "pQMtKMqNx0kv"
      },
      "execution_count": 5,
      "outputs": []
    },
    {
      "cell_type": "markdown",
      "source": [
        "**setting up the validation set and training set**"
      ],
      "metadata": {
        "id": "wvhRkrl3x5-c"
      }
    },
    {
      "cell_type": "code",
      "source": [
        "x_val = x_train[:10000]\n",
        "partial_x_train = x_train[10000:]\n",
        "y_val = y_train[:10000]\n",
        "partial_y_train = y_train[10000:]"
      ],
      "metadata": {
        "id": "VNHOJcfdx8n7"
      },
      "execution_count": 6,
      "outputs": []
    },
    {
      "cell_type": "code",
      "source": [
        "history = model.fit(partial_x_train,\n",
        "                    partial_y_train,\n",
        "                    epochs=20,\n",
        "                    batch_size=512,\n",
        "                    validation_data=(x_val, y_val))"
      ],
      "metadata": {
        "colab": {
          "base_uri": "https://localhost:8080/"
        },
        "id": "g4mip7adxZ-8",
        "outputId": "84b38b4b-84d4-4257-c0d6-0d590f0fe120"
      },
      "execution_count": 7,
      "outputs": [
        {
          "output_type": "stream",
          "name": "stdout",
          "text": [
            "Epoch 1/20\n",
            "30/30 [==============================] - 2s 53ms/step - loss: 0.1723 - accuracy: 0.7877 - val_loss: 0.1219 - val_accuracy: 0.8648\n",
            "Epoch 2/20\n",
            "30/30 [==============================] - 1s 22ms/step - loss: 0.0969 - accuracy: 0.8877 - val_loss: 0.0931 - val_accuracy: 0.8841\n",
            "Epoch 3/20\n",
            "30/30 [==============================] - 1s 31ms/step - loss: 0.0718 - accuracy: 0.9147 - val_loss: 0.0856 - val_accuracy: 0.8876\n",
            "Epoch 4/20\n",
            "30/30 [==============================] - 1s 31ms/step - loss: 0.0555 - accuracy: 0.9329 - val_loss: 0.0917 - val_accuracy: 0.8751\n",
            "Epoch 5/20\n",
            "30/30 [==============================] - 1s 27ms/step - loss: 0.0471 - accuracy: 0.9431 - val_loss: 0.0861 - val_accuracy: 0.8822\n",
            "Epoch 6/20\n",
            "30/30 [==============================] - 1s 22ms/step - loss: 0.0378 - accuracy: 0.9577 - val_loss: 0.0971 - val_accuracy: 0.8697\n",
            "Epoch 7/20\n",
            "30/30 [==============================] - 1s 22ms/step - loss: 0.0341 - accuracy: 0.9610 - val_loss: 0.0884 - val_accuracy: 0.8826\n",
            "Epoch 8/20\n",
            "30/30 [==============================] - 1s 27ms/step - loss: 0.0273 - accuracy: 0.9715 - val_loss: 0.0913 - val_accuracy: 0.8811\n",
            "Epoch 9/20\n",
            "30/30 [==============================] - 1s 27ms/step - loss: 0.0237 - accuracy: 0.9741 - val_loss: 0.0932 - val_accuracy: 0.8787\n",
            "Epoch 10/20\n",
            "30/30 [==============================] - 1s 23ms/step - loss: 0.0224 - accuracy: 0.9752 - val_loss: 0.1001 - val_accuracy: 0.8727\n",
            "Epoch 11/20\n",
            "30/30 [==============================] - 1s 27ms/step - loss: 0.0192 - accuracy: 0.9806 - val_loss: 0.1009 - val_accuracy: 0.8752\n",
            "Epoch 12/20\n",
            "30/30 [==============================] - 1s 21ms/step - loss: 0.0164 - accuracy: 0.9827 - val_loss: 0.1022 - val_accuracy: 0.8731\n",
            "Epoch 13/20\n",
            "30/30 [==============================] - 1s 27ms/step - loss: 0.0152 - accuracy: 0.9850 - val_loss: 0.1040 - val_accuracy: 0.8734\n",
            "Epoch 14/20\n",
            "30/30 [==============================] - 1s 22ms/step - loss: 0.0153 - accuracy: 0.9838 - val_loss: 0.1027 - val_accuracy: 0.8756\n",
            "Epoch 15/20\n",
            "30/30 [==============================] - 1s 21ms/step - loss: 0.0102 - accuracy: 0.9905 - val_loss: 0.1221 - val_accuracy: 0.8535\n",
            "Epoch 16/20\n",
            "30/30 [==============================] - 1s 27ms/step - loss: 0.0129 - accuracy: 0.9868 - val_loss: 0.1051 - val_accuracy: 0.8771\n",
            "Epoch 17/20\n",
            "30/30 [==============================] - 1s 21ms/step - loss: 0.0140 - accuracy: 0.9847 - val_loss: 0.1076 - val_accuracy: 0.8730\n",
            "Epoch 18/20\n",
            "30/30 [==============================] - 1s 22ms/step - loss: 0.0085 - accuracy: 0.9921 - val_loss: 0.1087 - val_accuracy: 0.8726\n",
            "Epoch 19/20\n",
            "30/30 [==============================] - 1s 23ms/step - loss: 0.0143 - accuracy: 0.9837 - val_loss: 0.1085 - val_accuracy: 0.8731\n",
            "Epoch 20/20\n",
            "30/30 [==============================] - 1s 32ms/step - loss: 0.0080 - accuracy: 0.9924 - val_loss: 0.1139 - val_accuracy: 0.8649\n"
          ]
        }
      ]
    },
    {
      "cell_type": "code",
      "source": [
        "history_dict = history.history\n",
        "history_dict.keys()"
      ],
      "metadata": {
        "colab": {
          "base_uri": "https://localhost:8080/"
        },
        "id": "3JjiIf1uyXxa",
        "outputId": "5d561f4e-2778-4d89-e360-cb1b3fab324c"
      },
      "execution_count": 8,
      "outputs": [
        {
          "output_type": "execute_result",
          "data": {
            "text/plain": [
              "dict_keys(['loss', 'accuracy', 'val_loss', 'val_accuracy'])"
            ]
          },
          "metadata": {},
          "execution_count": 8
        }
      ]
    },
    {
      "cell_type": "markdown",
      "source": [
        "**Plotting the training and validation loss**"
      ],
      "metadata": {
        "id": "tQZsDR0uyf3E"
      }
    },
    {
      "cell_type": "code",
      "source": [
        "import matplotlib.pyplot as plt\n",
        "history_dict = history.history\n",
        "loss_values = history_dict[\"loss\"]\n",
        "val_loss_values = history_dict[\"val_loss\"]\n",
        "epochs = range(1, len(loss_values) + 1)\n",
        "plt.plot(epochs, loss_values, \"blue\", label=\"Training loss\")\n",
        "plt.plot(epochs, val_loss_values, \"black\", label=\"Validation loss\")\n",
        "plt.title(\"Training and validation loss\")\n",
        "plt.xlabel(\"Epochs\")\n",
        "plt.ylabel(\"Loss\")\n",
        "plt.legend()\n",
        "plt.show()"
      ],
      "metadata": {
        "colab": {
          "base_uri": "https://localhost:8080/",
          "height": 295
        },
        "id": "RGlEfjKkyh7b",
        "outputId": "9c5bceeb-a47e-494c-d609-84e815ac98e0"
      },
      "execution_count": 9,
      "outputs": [
        {
          "output_type": "display_data",
          "data": {
            "text/plain": [
              "<Figure size 432x288 with 1 Axes>"
            ],
            "image/png": "[encoded data removed]"
          },
          "metadata": {
            "needs_background": "light"
          }
        }
      ]
    },
    {
      "cell_type": "markdown",
      "source": [
        "**Plotting the training and validation accuracy**"
      ],
      "metadata": {
        "id": "IEGOifMlywdf"
      }
    },
    {
      "cell_type": "code",
      "source": [
        "plt.clf()\n",
        "acc = history_dict[\"accuracy\"]\n",
        "val_acc = history_dict[\"val_accuracy\"]\n",
        "plt.plot(epochs, acc, \"bo\", label=\"Training acc\")\n",
        "plt.plot(epochs, val_acc, \"green\", label=\"Validation acc\")\n",
        "plt.title(\"Training and validation accuracy\")\n",
        "plt.xlabel(\"Epochs\")\n",
        "plt.ylabel(\"Accuracy\")\n",
        "plt.legend()\n",
        "plt.show()"
      ],
      "metadata": {
        "colab": {
          "base_uri": "https://localhost:8080/",
          "height": 295
        },
        "id": "9LOOnCEdyxtw",
        "outputId": "60544866-a758-48ff-cb06-7d1a708c25d6"
      },
      "execution_count": 10,
      "outputs": [
        {
          "output_type": "display_data",
          "data": {
            "text/plain": [
              "<Figure size 432x288 with 1 Axes>"
            ],
            "image/png": "[encoded data removed]"
          },
          "metadata": {
            "needs_background": "light"
          }
        }
      ]
    },
    {
      "cell_type": "markdown",
      "source": [
        "**Retraining a model from scratch with epochs=4**"
      ],
      "metadata": {
        "id": "T5TFpyhrzEYY"
      }
    },
    {
      "cell_type": "code",
      "source": [
        "model = keras.Sequential([\n",
        "    layers.Dense(16, activation=\"tanh\"),\n",
        "    layers.Dense(16, activation=\"tanh\"),\n",
        "    layers.Dense(1, activation=\"sigmoid\")\n",
        "])\n",
        "model.compile(optimizer=\"rmsprop\",\n",
        "              loss=\"mse\",\n",
        "              metrics=[\"accuracy\"])\n",
        "model.fit(x_train, y_train, epochs=4, batch_size=512)\n",
        "results = model.evaluate(x_test, y_test)"
      ],
      "metadata": {
        "colab": {
          "base_uri": "https://localhost:8080/"
        },
        "id": "D8GLSisJzFuy",
        "outputId": "77c54938-81fa-4a59-f702-25604e129734"
      },
      "execution_count": 11,
      "outputs": [
        {
          "output_type": "stream",
          "name": "stdout",
          "text": [
            "Epoch 1/4\n",
            "49/49 [==============================] - 1s 16ms/step - loss: 0.1464 - accuracy: 0.8148\n",
            "Epoch 2/4\n",
            "49/49 [==============================] - 1s 17ms/step - loss: 0.0792 - accuracy: 0.9009\n",
            "Epoch 3/4\n",
            "49/49 [==============================] - 1s 16ms/step - loss: 0.0612 - accuracy: 0.9222\n",
            "Epoch 4/4\n",
            "49/49 [==============================] - 1s 16ms/step - loss: 0.0523 - accuracy: 0.9336\n",
            "782/782 [==============================] - 2s 2ms/step - loss: 0.0859 - accuracy: 0.8838\n"
          ]
        }
      ]
    },
    {
      "cell_type": "code",
      "source": [
        "results=model.evaluate(x_test,y_test)"
      ],
      "metadata": {
        "colab": {
          "base_uri": "https://localhost:8080/"
        },
        "id": "mqK_r695zUtD",
        "outputId": "513c2eb3-c660-4c16-df7b-6b1cb20b5134"
      },
      "execution_count": 12,
      "outputs": [
        {
          "output_type": "stream",
          "name": "stdout",
          "text": [
            "782/782 [==============================] - 2s 3ms/step - loss: 0.0859 - accuracy: 0.8838\n"
          ]
        }
      ]
    },
    {
      "cell_type": "markdown",
      "source": [
        "**The first model built had an accuracy on the test set of 88.38%.**"
      ],
      "metadata": {
        "id": "NwbtW-OuzcK5"
      }
    },
    {
      "cell_type": "markdown",
      "source": [
        "**Using a trained model to make forecasts based on new data**"
      ],
      "metadata": {
        "id": "43XwBOBMzuwy"
      }
    },
    {
      "cell_type": "code",
      "source": [
        "model.predict(x_test)"
      ],
      "metadata": {
        "colab": {
          "base_uri": "https://localhost:8080/"
        },
        "id": "q2p5vaAWzytY",
        "outputId": "a081c24b-da4a-4a89-ea55-16ef0a3237ac"
      },
      "execution_count": 13,
      "outputs": [
        {
          "output_type": "stream",
          "name": "stdout",
          "text": [
            "782/782 [==============================] - 2s 2ms/step\n"
          ]
        },
        {
          "output_type": "execute_result",
          "data": {
            "text/plain": [
              "array([[0.06563252],\n",
              "       [0.9979722 ],\n",
              "       [0.62655854],\n",
              "       ...,\n",
              "       [0.08908485],\n",
              "       [0.05144303],\n",
              "       [0.63655424]], dtype=float32)"
            ]
          },
          "metadata": {},
          "execution_count": 13
        }
      ]
    },
    {
      "cell_type": "markdown",
      "source": [
        "**MODEL 2 - 1 hidden layer 64 nodes**"
      ],
      "metadata": {
        "id": "7vzZHf88z6wX"
      }
    },
    {
      "cell_type": "code",
      "source": [
        "model = keras.Sequential([\n",
        "    layers.Dense(64,activation='tanh',input_shape=(10000,)),\n",
        "    layers.Dense(1,activation='sigmoid')\n",
        "])\n",
        "\n",
        "model.compile(optimizer='rmsprop',\n",
        "              loss='mse',\n",
        "              metrics=['accuracy'])\n",
        "\n",
        "history2 = model.fit(partial_x_train,\n",
        "                       partial_y_train,\n",
        "                       epochs=50,\n",
        "                       batch_size=512,\n",
        "                       validation_data=(x_val,y_val))"
      ],
      "metadata": {
        "colab": {
          "base_uri": "https://localhost:8080/"
        },
        "id": "MPrioodxz8Rk",
        "outputId": "7714781f-6114-45c4-b994-c390bd858d93"
      },
      "execution_count": 14,
      "outputs": [
        {
          "output_type": "stream",
          "name": "stdout",
          "text": [
            "Epoch 1/50\n",
            "30/30 [==============================] - 2s 57ms/step - loss: 0.1692 - accuracy: 0.7619 - val_loss: 0.1267 - val_accuracy: 0.8407\n",
            "Epoch 2/50\n",
            "30/30 [==============================] - 1s 36ms/step - loss: 0.0994 - accuracy: 0.8863 - val_loss: 0.0954 - val_accuracy: 0.8819\n",
            "Epoch 3/50\n",
            "30/30 [==============================] - 1s 35ms/step - loss: 0.0781 - accuracy: 0.9084 - val_loss: 0.0927 - val_accuracy: 0.8763\n",
            "Epoch 4/50\n",
            "30/30 [==============================] - 1s 35ms/step - loss: 0.0683 - accuracy: 0.9183 - val_loss: 0.0868 - val_accuracy: 0.8840\n",
            "Epoch 5/50\n",
            "30/30 [==============================] - 1s 40ms/step - loss: 0.0588 - accuracy: 0.9283 - val_loss: 0.0833 - val_accuracy: 0.8873\n",
            "Epoch 6/50\n",
            "30/30 [==============================] - 2s 55ms/step - loss: 0.0535 - accuracy: 0.9351 - val_loss: 0.0915 - val_accuracy: 0.8764\n",
            "Epoch 7/50\n",
            "30/30 [==============================] - 1s 49ms/step - loss: 0.0492 - accuracy: 0.9422 - val_loss: 0.0838 - val_accuracy: 0.8853\n",
            "Epoch 8/50\n",
            "30/30 [==============================] - 2s 60ms/step - loss: 0.0443 - accuracy: 0.9494 - val_loss: 0.0890 - val_accuracy: 0.8813\n",
            "Epoch 9/50\n",
            "30/30 [==============================] - 2s 58ms/step - loss: 0.0402 - accuracy: 0.9537 - val_loss: 0.0971 - val_accuracy: 0.8694\n",
            "Epoch 10/50\n",
            "30/30 [==============================] - 1s 41ms/step - loss: 0.0372 - accuracy: 0.9578 - val_loss: 0.0866 - val_accuracy: 0.8806\n",
            "Epoch 11/50\n",
            "30/30 [==============================] - 1s 36ms/step - loss: 0.0353 - accuracy: 0.9599 - val_loss: 0.1148 - val_accuracy: 0.8506\n",
            "Epoch 12/50\n",
            "30/30 [==============================] - 1s 35ms/step - loss: 0.0317 - accuracy: 0.9654 - val_loss: 0.0892 - val_accuracy: 0.8809\n",
            "Epoch 13/50\n",
            "30/30 [==============================] - 1s 36ms/step - loss: 0.0280 - accuracy: 0.9713 - val_loss: 0.0938 - val_accuracy: 0.8729\n",
            "Epoch 14/50\n",
            "30/30 [==============================] - 1s 50ms/step - loss: 0.0282 - accuracy: 0.9711 - val_loss: 0.0926 - val_accuracy: 0.8755\n",
            "Epoch 15/50\n",
            "30/30 [==============================] - 1s 47ms/step - loss: 0.0245 - accuracy: 0.9741 - val_loss: 0.0933 - val_accuracy: 0.8753\n",
            "Epoch 16/50\n",
            "30/30 [==============================] - 1s 39ms/step - loss: 0.0267 - accuracy: 0.9706 - val_loss: 0.0948 - val_accuracy: 0.8726\n",
            "Epoch 17/50\n",
            "30/30 [==============================] - 1s 35ms/step - loss: 0.0205 - accuracy: 0.9806 - val_loss: 0.1027 - val_accuracy: 0.8715\n",
            "Epoch 18/50\n",
            "30/30 [==============================] - 1s 34ms/step - loss: 0.0212 - accuracy: 0.9789 - val_loss: 0.0986 - val_accuracy: 0.8710\n",
            "Epoch 19/50\n",
            "30/30 [==============================] - 1s 35ms/step - loss: 0.0215 - accuracy: 0.9777 - val_loss: 0.0972 - val_accuracy: 0.8767\n",
            "Epoch 20/50\n",
            "30/30 [==============================] - 1s 36ms/step - loss: 0.0187 - accuracy: 0.9816 - val_loss: 0.0997 - val_accuracy: 0.8722\n",
            "Epoch 21/50\n",
            "30/30 [==============================] - 1s 35ms/step - loss: 0.0159 - accuracy: 0.9857 - val_loss: 0.1033 - val_accuracy: 0.8715\n",
            "Epoch 22/50\n",
            "30/30 [==============================] - 1s 36ms/step - loss: 0.0178 - accuracy: 0.9822 - val_loss: 0.1005 - val_accuracy: 0.8738\n",
            "Epoch 23/50\n",
            "30/30 [==============================] - 1s 36ms/step - loss: 0.0165 - accuracy: 0.9841 - val_loss: 0.1012 - val_accuracy: 0.8717\n",
            "Epoch 24/50\n",
            "30/30 [==============================] - 1s 38ms/step - loss: 0.0153 - accuracy: 0.9855 - val_loss: 0.1012 - val_accuracy: 0.8723\n",
            "Epoch 25/50\n",
            "30/30 [==============================] - 1s 40ms/step - loss: 0.0135 - accuracy: 0.9872 - val_loss: 0.1020 - val_accuracy: 0.8743\n",
            "Epoch 26/50\n",
            "30/30 [==============================] - 1s 45ms/step - loss: 0.0156 - accuracy: 0.9837 - val_loss: 0.1027 - val_accuracy: 0.8725\n",
            "Epoch 27/50\n",
            "30/30 [==============================] - 1s 38ms/step - loss: 0.0141 - accuracy: 0.9858 - val_loss: 0.1050 - val_accuracy: 0.8710\n",
            "Epoch 28/50\n",
            "30/30 [==============================] - 1s 36ms/step - loss: 0.0095 - accuracy: 0.9923 - val_loss: 0.1045 - val_accuracy: 0.8717\n",
            "Epoch 29/50\n",
            "30/30 [==============================] - 1s 38ms/step - loss: 0.0137 - accuracy: 0.9857 - val_loss: 0.1057 - val_accuracy: 0.8698\n",
            "Epoch 30/50\n",
            "30/30 [==============================] - 1s 36ms/step - loss: 0.0132 - accuracy: 0.9861 - val_loss: 0.1069 - val_accuracy: 0.8690\n",
            "Epoch 31/50\n",
            "30/30 [==============================] - 1s 35ms/step - loss: 0.0130 - accuracy: 0.9871 - val_loss: 0.1059 - val_accuracy: 0.8705\n",
            "Epoch 32/50\n",
            "30/30 [==============================] - 1s 37ms/step - loss: 0.0104 - accuracy: 0.9904 - val_loss: 0.1251 - val_accuracy: 0.8493\n",
            "Epoch 33/50\n",
            "30/30 [==============================] - 1s 38ms/step - loss: 0.0090 - accuracy: 0.9921 - val_loss: 0.1070 - val_accuracy: 0.8713\n",
            "Epoch 34/50\n",
            "30/30 [==============================] - 1s 36ms/step - loss: 0.0125 - accuracy: 0.9873 - val_loss: 0.1066 - val_accuracy: 0.8717\n",
            "Epoch 35/50\n",
            "30/30 [==============================] - 1s 35ms/step - loss: 0.0119 - accuracy: 0.9876 - val_loss: 0.1091 - val_accuracy: 0.8695\n",
            "Epoch 36/50\n",
            "30/30 [==============================] - 1s 50ms/step - loss: 0.0081 - accuracy: 0.9930 - val_loss: 0.1082 - val_accuracy: 0.8680\n",
            "Epoch 37/50\n",
            "30/30 [==============================] - 1s 45ms/step - loss: 0.0128 - accuracy: 0.9865 - val_loss: 0.1076 - val_accuracy: 0.8698\n",
            "Epoch 38/50\n",
            "30/30 [==============================] - 1s 37ms/step - loss: 0.0077 - accuracy: 0.9931 - val_loss: 0.1099 - val_accuracy: 0.8688\n",
            "Epoch 39/50\n",
            "30/30 [==============================] - 1s 37ms/step - loss: 0.0123 - accuracy: 0.9869 - val_loss: 0.1086 - val_accuracy: 0.8705\n",
            "Epoch 40/50\n",
            "30/30 [==============================] - 1s 36ms/step - loss: 0.0075 - accuracy: 0.9932 - val_loss: 0.1084 - val_accuracy: 0.8708\n",
            "Epoch 41/50\n",
            "30/30 [==============================] - 1s 36ms/step - loss: 0.0116 - accuracy: 0.9871 - val_loss: 0.1088 - val_accuracy: 0.8701\n",
            "Epoch 42/50\n",
            "30/30 [==============================] - 1s 37ms/step - loss: 0.0073 - accuracy: 0.9933 - val_loss: 0.1105 - val_accuracy: 0.8687\n",
            "Epoch 43/50\n",
            "30/30 [==============================] - 1s 37ms/step - loss: 0.0124 - accuracy: 0.9860 - val_loss: 0.1093 - val_accuracy: 0.8700\n",
            "Epoch 44/50\n",
            "30/30 [==============================] - 1s 35ms/step - loss: 0.0073 - accuracy: 0.9933 - val_loss: 0.1097 - val_accuracy: 0.8697\n",
            "Epoch 45/50\n",
            "30/30 [==============================] - 1s 37ms/step - loss: 0.0116 - accuracy: 0.9875 - val_loss: 0.1109 - val_accuracy: 0.8699\n",
            "Epoch 46/50\n",
            "30/30 [==============================] - 1s 36ms/step - loss: 0.0071 - accuracy: 0.9934 - val_loss: 0.1101 - val_accuracy: 0.8699\n",
            "Epoch 47/50\n",
            "30/30 [==============================] - 1s 43ms/step - loss: 0.0123 - accuracy: 0.9866 - val_loss: 0.1103 - val_accuracy: 0.8684\n",
            "Epoch 48/50\n",
            "30/30 [==============================] - 1s 46ms/step - loss: 0.0071 - accuracy: 0.9935 - val_loss: 0.1131 - val_accuracy: 0.8663\n",
            "Epoch 49/50\n",
            "30/30 [==============================] - 1s 35ms/step - loss: 0.0102 - accuracy: 0.9890 - val_loss: 0.1114 - val_accuracy: 0.8691\n",
            "Epoch 50/50\n",
            "30/30 [==============================] - 1s 36ms/step - loss: 0.0071 - accuracy: 0.9935 - val_loss: 0.1116 - val_accuracy: 0.8685\n"
          ]
        }
      ]
    },
    {
      "cell_type": "code",
      "source": [
        "history_dict_2 = history2.history"
      ],
      "metadata": {
        "id": "LEAkLivU0eYE"
      },
      "execution_count": 15,
      "outputs": []
    },
    {
      "cell_type": "markdown",
      "source": [
        "**Plotting the training and validation loss**"
      ],
      "metadata": {
        "id": "YELL0-BF0lYR"
      }
    },
    {
      "cell_type": "code",
      "source": [
        "loss = history_dict_2['loss']\n",
        "val_loss = history_dict_2['val_loss']\n",
        "epochs = range(1, len(loss)+1)\n",
        "plt.plot(epochs, loss, color= \"grey\", label= \"Training Loss\")\n",
        "plt.plot(epochs, val_loss, color= \"blue\",linestyle= \"dashed\", label= \"Validation Loss\")\n",
        "plt.xlabel(\"Epochs\")\n",
        "plt.ylabel(\"Loss\")\n",
        "plt.legend()\n",
        "plt.show()"
      ],
      "metadata": {
        "colab": {
          "base_uri": "https://localhost:8080/",
          "height": 279
        },
        "id": "Gvtie7fp0mdS",
        "outputId": "2d52c13d-b59c-4b4f-b87b-74cf9423b5cd"
      },
      "execution_count": 16,
      "outputs": [
        {
          "output_type": "display_data",
          "data": {
            "text/plain": [
              "<Figure size 432x288 with 1 Axes>"
            ],
            "image/png": "[encoded data removed]"
          },
          "metadata": {
            "needs_background": "light"
          }
        }
      ]
    },
    {
      "cell_type": "markdown",
      "source": [
        "Based on the loss graph above, we can conclude that \"3\" is the right number of epochs because the validation loss starts to rise after the third epoch."
      ],
      "metadata": {
        "id": "rKZxfm4G0-3o"
      }
    },
    {
      "cell_type": "markdown",
      "source": [
        "\n",
        "**Plotting the training and validation accuracy** "
      ],
      "metadata": {
        "id": "y5R1_Sbg1Bbd"
      }
    },
    {
      "cell_type": "code",
      "source": [
        "accuracy = history_dict_2['accuracy']\n",
        "validation_accuracy = history_dict_2['val_accuracy']\n",
        "epochs = range(1, len(accuracy)+1)\n",
        "plt.plot(epochs,accuracy,color=\"grey\",label=\"Training Accuracy\")\n",
        "plt.plot(epochs,validation_accuracy, color= \"RED\", linestyle=\"dashed\",label=\"Validation Accuracy\")\n",
        "plt.xlabel('Epochs')\n",
        "plt.ylabel('Accuracy')\n",
        "plt.legend()\n",
        "plt.show()"
      ],
      "metadata": {
        "colab": {
          "base_uri": "https://localhost:8080/",
          "height": 279
        },
        "id": "Z4XszBE61ILL",
        "outputId": "63219531-32e2-48bd-f2f6-f093aeed4e0f"
      },
      "execution_count": 17,
      "outputs": [
        {
          "output_type": "display_data",
          "data": {
            "text/plain": [
              "<Figure size 432x288 with 1 Axes>"
            ],
            "image/png": "[encoded data removed]"
          },
          "metadata": {
            "needs_background": "light"
          }
        }
      ]
    },
    {
      "cell_type": "markdown",
      "source": [
        "We can indicate from the accuracy graph that epoch=3 had the greatest accuracy."
      ],
      "metadata": {
        "id": "0l7j8dQ01d6k"
      }
    },
    {
      "cell_type": "markdown",
      "source": [
        "**Retraining a model from scratch with epochs=3**"
      ],
      "metadata": {
        "id": "4sEKRRTn1gJ5"
      }
    },
    {
      "cell_type": "code",
      "source": [
        "model = keras.Sequential([\n",
        "    layers.Dense(64,activation='tanh',input_shape=(10000,)),\n",
        "    layers.Dense(1,activation='sigmoid')\n",
        "])\n",
        "\n",
        "model.compile(optimizer='rmsprop',\n",
        "              loss='mse',\n",
        "              metrics=['accuracy'])\n",
        "\n",
        "history_3 = model.fit(x_train,\n",
        "                       y_train,\n",
        "                       epochs=3,\n",
        "                       batch_size=512) "
      ],
      "metadata": {
        "colab": {
          "base_uri": "https://localhost:8080/"
        },
        "id": "rdOsSWyJ1i9O",
        "outputId": "5b854c1c-e1f2-4932-9800-16bd1ec5ab88"
      },
      "execution_count": 18,
      "outputs": [
        {
          "output_type": "stream",
          "name": "stdout",
          "text": [
            "Epoch 1/3\n",
            "49/49 [==============================] - 2s 27ms/step - loss: 0.1449 - accuracy: 0.8019\n",
            "Epoch 2/3\n",
            "49/49 [==============================] - 1s 26ms/step - loss: 0.0852 - accuracy: 0.8926\n",
            "Epoch 3/3\n",
            "49/49 [==============================] - 1s 27ms/step - loss: 0.0714 - accuracy: 0.9088\n"
          ]
        }
      ]
    },
    {
      "cell_type": "code",
      "source": [
        "results2= model.evaluate(x_test,y_test)"
      ],
      "metadata": {
        "colab": {
          "base_uri": "https://localhost:8080/"
        },
        "id": "fFZ67MZr1pdP",
        "outputId": "e7a94560-348a-47d6-8922-8f4ac6aeb0ca"
      },
      "execution_count": 19,
      "outputs": [
        {
          "output_type": "stream",
          "name": "stdout",
          "text": [
            "782/782 [==============================] - 3s 3ms/step - loss: 0.0834 - accuracy: 0.8870\n"
          ]
        }
      ]
    },
    {
      "cell_type": "markdown",
      "source": [
        "**The second model built had an accuracy on the test set of 88.70%.**"
      ],
      "metadata": {
        "id": "1Emv6M4bYvKB"
      }
    },
    {
      "cell_type": "markdown",
      "source": [
        "\n",
        "**Using a trained model to generate predictions on new data**"
      ],
      "metadata": {
        "id": "jjjwKgs2YiSP"
      }
    },
    {
      "cell_type": "code",
      "source": [
        "\n",
        "model.predict(x_test)"
      ],
      "metadata": {
        "colab": {
          "base_uri": "https://localhost:8080/"
        },
        "id": "TalmjLDpYi5L",
        "outputId": "7cd521e3-e38c-40bc-a3a6-3930ce8d9b80"
      },
      "execution_count": 20,
      "outputs": [
        {
          "output_type": "stream",
          "name": "stdout",
          "text": [
            "782/782 [==============================] - 2s 3ms/step\n"
          ]
        },
        {
          "output_type": "execute_result",
          "data": {
            "text/plain": [
              "array([[0.25438038],\n",
              "       [0.9994113 ],\n",
              "       [0.92979574],\n",
              "       ...,\n",
              "       [0.1266982 ],\n",
              "       [0.12051606],\n",
              "       [0.5660707 ]], dtype=float32)"
            ]
          },
          "metadata": {},
          "execution_count": 20
        }
      ]
    },
    {
      "cell_type": "markdown",
      "source": [
        " **MODEL 3 - 3 hidden layer 64 nodes**"
      ],
      "metadata": {
        "id": "JkhcMtVu1zzn"
      }
    },
    {
      "cell_type": "code",
      "source": [
        "from tensorflow.keras import regularizers\n",
        "\n",
        "model = keras.Sequential([\n",
        "    layers.Dense(64,activation='relu',kernel_regularizer=regularizers.l2(0.001),input_shape=(10000,)),\n",
        "    layers.Dense(64,activation='relu',kernel_regularizer=regularizers.l2(0.001)),\n",
        "    layers.Dense(64,activation='relu',kernel_regularizer=regularizers.l2(0.001)),\n",
        "    layers.Dense(1,activation='sigmoid')\n",
        "])\n",
        "\n",
        "model.compile(optimizer='rmsprop',\n",
        "              loss='binary_crossentropy',\n",
        "              metrics=['accuracy'])\n",
        "\n",
        "history3 = model.fit(partial_x_train,\n",
        "                       partial_y_train,\n",
        "                       epochs=50,\n",
        "                       batch_size=512,\n",
        "                       validation_data = (x_val,y_val))\n"
      ],
      "metadata": {
        "colab": {
          "base_uri": "https://localhost:8080/"
        },
        "id": "zU1R9IFM3Fg1",
        "outputId": "741db225-5636-4e14-8f59-c27d5b22666f"
      },
      "execution_count": 21,
      "outputs": [
        {
          "output_type": "stream",
          "name": "stdout",
          "text": [
            "Epoch 1/50\n",
            "30/30 [==============================] - 3s 64ms/step - loss: 0.7639 - accuracy: 0.7273 - val_loss: 0.5619 - val_accuracy: 0.8627\n",
            "Epoch 2/50\n",
            "30/30 [==============================] - 2s 64ms/step - loss: 0.5020 - accuracy: 0.8809 - val_loss: 0.5527 - val_accuracy: 0.8453\n",
            "Epoch 3/50\n",
            "30/30 [==============================] - 1s 37ms/step - loss: 0.4149 - accuracy: 0.9031 - val_loss: 0.4612 - val_accuracy: 0.8762\n",
            "Epoch 4/50\n",
            "30/30 [==============================] - 1s 39ms/step - loss: 0.3484 - accuracy: 0.9301 - val_loss: 0.4756 - val_accuracy: 0.8721\n",
            "Epoch 5/50\n",
            "30/30 [==============================] - 1s 38ms/step - loss: 0.3150 - accuracy: 0.9349 - val_loss: 0.4625 - val_accuracy: 0.8748\n",
            "Epoch 6/50\n",
            "30/30 [==============================] - 1s 38ms/step - loss: 0.2845 - accuracy: 0.9469 - val_loss: 0.5240 - val_accuracy: 0.8540\n",
            "Epoch 7/50\n",
            "30/30 [==============================] - 1s 41ms/step - loss: 0.2555 - accuracy: 0.9560 - val_loss: 0.4853 - val_accuracy: 0.8707\n",
            "Epoch 8/50\n",
            "30/30 [==============================] - 1s 37ms/step - loss: 0.2377 - accuracy: 0.9596 - val_loss: 0.5158 - val_accuracy: 0.8575\n",
            "Epoch 9/50\n",
            "30/30 [==============================] - 1s 37ms/step - loss: 0.2207 - accuracy: 0.9675 - val_loss: 0.4758 - val_accuracy: 0.8805\n",
            "Epoch 10/50\n",
            "30/30 [==============================] - 1s 37ms/step - loss: 0.2006 - accuracy: 0.9739 - val_loss: 0.5512 - val_accuracy: 0.8614\n",
            "Epoch 11/50\n",
            "30/30 [==============================] - 1s 48ms/step - loss: 0.1974 - accuracy: 0.9751 - val_loss: 0.5083 - val_accuracy: 0.8774\n",
            "Epoch 12/50\n",
            "30/30 [==============================] - 2s 59ms/step - loss: 0.2014 - accuracy: 0.9767 - val_loss: 0.4872 - val_accuracy: 0.8778\n",
            "Epoch 13/50\n",
            "30/30 [==============================] - 1s 39ms/step - loss: 0.1928 - accuracy: 0.9772 - val_loss: 0.4730 - val_accuracy: 0.8745\n",
            "Epoch 14/50\n",
            "30/30 [==============================] - 1s 37ms/step - loss: 0.1789 - accuracy: 0.9795 - val_loss: 0.4671 - val_accuracy: 0.8767\n",
            "Epoch 15/50\n",
            "30/30 [==============================] - 1s 37ms/step - loss: 0.1738 - accuracy: 0.9805 - val_loss: 0.4697 - val_accuracy: 0.8750\n",
            "Epoch 16/50\n",
            "30/30 [==============================] - 1s 37ms/step - loss: 0.1428 - accuracy: 0.9899 - val_loss: 0.5015 - val_accuracy: 0.8641\n",
            "Epoch 17/50\n",
            "30/30 [==============================] - 1s 38ms/step - loss: 0.1381 - accuracy: 0.9905 - val_loss: 0.5206 - val_accuracy: 0.8573\n",
            "Epoch 18/50\n",
            "30/30 [==============================] - 1s 37ms/step - loss: 0.1400 - accuracy: 0.9896 - val_loss: 0.4807 - val_accuracy: 0.8649\n",
            "Epoch 19/50\n",
            "30/30 [==============================] - 1s 38ms/step - loss: 0.1634 - accuracy: 0.9799 - val_loss: 0.4433 - val_accuracy: 0.8759\n",
            "Epoch 20/50\n",
            "30/30 [==============================] - 1s 38ms/step - loss: 0.1063 - accuracy: 0.9977 - val_loss: 1.2399 - val_accuracy: 0.7436\n",
            "Epoch 21/50\n",
            "30/30 [==============================] - 1s 42ms/step - loss: 0.1375 - accuracy: 0.9856 - val_loss: 0.5536 - val_accuracy: 0.8682\n",
            "Epoch 22/50\n",
            "30/30 [==============================] - 1s 45ms/step - loss: 0.1718 - accuracy: 0.9799 - val_loss: 0.5112 - val_accuracy: 0.8758\n",
            "Epoch 23/50\n",
            "30/30 [==============================] - 1s 42ms/step - loss: 0.1762 - accuracy: 0.9811 - val_loss: 0.4929 - val_accuracy: 0.8718\n",
            "Epoch 24/50\n",
            "30/30 [==============================] - 1s 38ms/step - loss: 0.1590 - accuracy: 0.9805 - val_loss: 0.4700 - val_accuracy: 0.8758\n",
            "Epoch 25/50\n",
            "30/30 [==============================] - 1s 38ms/step - loss: 0.0862 - accuracy: 1.0000 - val_loss: 0.5607 - val_accuracy: 0.8700\n",
            "Epoch 26/50\n",
            "30/30 [==============================] - 1s 37ms/step - loss: 0.1679 - accuracy: 0.9804 - val_loss: 0.5109 - val_accuracy: 0.8744\n",
            "Epoch 27/50\n",
            "30/30 [==============================] - 1s 37ms/step - loss: 0.1781 - accuracy: 0.9801 - val_loss: 0.4884 - val_accuracy: 0.8758\n",
            "Epoch 28/50\n",
            "30/30 [==============================] - 1s 38ms/step - loss: 0.1569 - accuracy: 0.9803 - val_loss: 0.4499 - val_accuracy: 0.8742\n",
            "Epoch 29/50\n",
            "30/30 [==============================] - 1s 38ms/step - loss: 0.0802 - accuracy: 0.9999 - val_loss: 0.5163 - val_accuracy: 0.8771\n",
            "Epoch 30/50\n",
            "30/30 [==============================] - 1s 39ms/step - loss: 0.1666 - accuracy: 0.9796 - val_loss: 0.4881 - val_accuracy: 0.8760\n",
            "Epoch 31/50\n",
            "30/30 [==============================] - 1s 37ms/step - loss: 0.1507 - accuracy: 0.9813 - val_loss: 0.4579 - val_accuracy: 0.8766\n",
            "Epoch 32/50\n",
            "30/30 [==============================] - 1s 43ms/step - loss: 0.1556 - accuracy: 0.9797 - val_loss: 0.4335 - val_accuracy: 0.8751\n",
            "Epoch 33/50\n",
            "30/30 [==============================] - 1s 48ms/step - loss: 0.1317 - accuracy: 0.9830 - val_loss: 0.4244 - val_accuracy: 0.8711\n",
            "Epoch 34/50\n",
            "30/30 [==============================] - 1s 37ms/step - loss: 0.0760 - accuracy: 0.9999 - val_loss: 0.5379 - val_accuracy: 0.8720\n",
            "Epoch 35/50\n",
            "30/30 [==============================] - 1s 37ms/step - loss: 0.1665 - accuracy: 0.9803 - val_loss: 0.4765 - val_accuracy: 0.8757\n",
            "Epoch 36/50\n",
            "30/30 [==============================] - 1s 37ms/step - loss: 0.1669 - accuracy: 0.9789 - val_loss: 0.4526 - val_accuracy: 0.8724\n",
            "Epoch 37/50\n",
            "30/30 [==============================] - 1s 39ms/step - loss: 0.0984 - accuracy: 0.9915 - val_loss: 0.4358 - val_accuracy: 0.8692\n",
            "Epoch 38/50\n",
            "30/30 [==============================] - 1s 36ms/step - loss: 0.1295 - accuracy: 0.9811 - val_loss: 0.4387 - val_accuracy: 0.8703\n",
            "Epoch 39/50\n",
            "30/30 [==============================] - 1s 36ms/step - loss: 0.0702 - accuracy: 0.9999 - val_loss: 0.5745 - val_accuracy: 0.8578\n",
            "Epoch 40/50\n",
            "30/30 [==============================] - 1s 37ms/step - loss: 0.1348 - accuracy: 0.9801 - val_loss: 0.4889 - val_accuracy: 0.8717\n",
            "Epoch 41/50\n",
            "30/30 [==============================] - 1s 38ms/step - loss: 0.1551 - accuracy: 0.9813 - val_loss: 0.4469 - val_accuracy: 0.8751\n",
            "Epoch 42/50\n",
            "30/30 [==============================] - 1s 38ms/step - loss: 0.1014 - accuracy: 0.9907 - val_loss: 0.4582 - val_accuracy: 0.8678\n",
            "Epoch 43/50\n",
            "30/30 [==============================] - 2s 57ms/step - loss: 0.0657 - accuracy: 1.0000 - val_loss: 0.4890 - val_accuracy: 0.8772\n",
            "Epoch 44/50\n",
            "30/30 [==============================] - 1s 43ms/step - loss: 0.1472 - accuracy: 0.9763 - val_loss: 0.4497 - val_accuracy: 0.8768\n",
            "Epoch 45/50\n",
            "30/30 [==============================] - 1s 37ms/step - loss: 0.1298 - accuracy: 0.9815 - val_loss: 0.4234 - val_accuracy: 0.8734\n",
            "Epoch 46/50\n",
            "30/30 [==============================] - 1s 36ms/step - loss: 0.0630 - accuracy: 1.0000 - val_loss: 0.5491 - val_accuracy: 0.8684\n",
            "Epoch 47/50\n",
            "30/30 [==============================] - 1s 38ms/step - loss: 0.1304 - accuracy: 0.9839 - val_loss: 0.4840 - val_accuracy: 0.8775\n",
            "Epoch 48/50\n",
            "30/30 [==============================] - 1s 37ms/step - loss: 0.1467 - accuracy: 0.9824 - val_loss: 0.4536 - val_accuracy: 0.8781\n",
            "Epoch 49/50\n",
            "30/30 [==============================] - 1s 38ms/step - loss: 0.0572 - accuracy: 1.0000 - val_loss: 0.6204 - val_accuracy: 0.8523\n",
            "Epoch 50/50\n",
            "30/30 [==============================] - 1s 36ms/step - loss: 0.1499 - accuracy: 0.9757 - val_loss: 0.4714 - val_accuracy: 0.8779\n"
          ]
        }
      ]
    },
    {
      "cell_type": "code",
      "source": [
        "history_dict_3 = history3.history"
      ],
      "metadata": {
        "id": "mZJqLFsP3p3n"
      },
      "execution_count": 22,
      "outputs": []
    },
    {
      "cell_type": "markdown",
      "source": [
        "**plotting the training and validation loss**"
      ],
      "metadata": {
        "id": "dr5PDYPR3sN8"
      }
    },
    {
      "cell_type": "code",
      "source": [
        "loss = history_dict_3['loss']\n",
        "val_loss = history_dict_3['val_loss']\n",
        "epochs = range(1, len(loss)+1)\n",
        "plt.plot(epochs,loss,color='grey',label='Training Loss')\n",
        "plt.plot(epochs,val_loss,color='BLUE',linestyle='dashed',label='Validation Loss')\n",
        "plt.xlabel('Epochs')\n",
        "plt.ylabel('Loss')\n",
        "plt.legend()\n",
        "plt.show()"
      ],
      "metadata": {
        "colab": {
          "base_uri": "https://localhost:8080/",
          "height": 279
        },
        "id": "-MMtENbA3tgF",
        "outputId": "7f56890e-27d8-434a-ca67-e7bc01f3729e"
      },
      "execution_count": 23,
      "outputs": [
        {
          "output_type": "display_data",
          "data": {
            "text/plain": [
              "<Figure size 432x288 with 1 Axes>"
            ],
            "image/png": "[encoded data removed]"
          },
          "metadata": {
            "needs_background": "light"
          }
        }
      ]
    },
    {
      "cell_type": "markdown",
      "source": [
        "Based on the loss graph above, we can conclude that \"3\" is the right number of epochs because the validation loss starts to rise after the third epoch."
      ],
      "metadata": {
        "id": "y5lfvjri4Qk1"
      }
    },
    {
      "cell_type": "markdown",
      "source": [
        "**plotting the training and validation accuracy**"
      ],
      "metadata": {
        "id": "rXGB7r_24TCH"
      }
    },
    {
      "cell_type": "code",
      "source": [
        "accuracy = history_dict_3['accuracy']\n",
        "val_accuracy = history_dict_3['val_accuracy']\n",
        "epochs = range(1, len(accuracy)+1)\n",
        "plt.plot(epochs,accuracy,color='grey',label='Training Accuracy')\n",
        "plt.plot(epochs,val_accuracy,color='RED',linestyle='dashed',label='Validation Accuracy')\n",
        "plt.xlabel('Epochs')\n",
        "plt.ylabel('Accuracy')\n",
        "plt.legend()\n",
        "plt.show()"
      ],
      "metadata": {
        "colab": {
          "base_uri": "https://localhost:8080/",
          "height": 279
        },
        "id": "oa2Gt-6h4Ulj",
        "outputId": "cd19cef1-19c6-45a1-ca68-02051ccd6aab"
      },
      "execution_count": 24,
      "outputs": [
        {
          "output_type": "display_data",
          "data": {
            "text/plain": [
              "<Figure size 432x288 with 1 Axes>"
            ],
            "image/png": "[encoded data removed]"
          },
          "metadata": {
            "needs_background": "light"
          }
        }
      ]
    },
    {
      "cell_type": "markdown",
      "source": [
        "The \"Accuracy Plot\" confirms the same thing; here, the accuracy peaked at the 3rd epoch."
      ],
      "metadata": {
        "id": "0fhvF8LN4eF1"
      }
    },
    {
      "cell_type": "markdown",
      "source": [
        "**Retraining a model from scratch with epochs=3**"
      ],
      "metadata": {
        "id": "jpEhOL6K4jU1"
      }
    },
    {
      "cell_type": "code",
      "source": [
        "model = keras.Sequential([\n",
        "    layers.Dense(64,activation='relu',kernel_regularizer=regularizers.l2(0.001),input_shape=(10000,)),\n",
        "    layers.Dense(64,activation='relu',kernel_regularizer=regularizers.l2(0.001)),\n",
        "    layers.Dense(64,activation='relu',kernel_regularizer=regularizers.l2(0.001)),\n",
        "    layers.Dense(1,activation='sigmoid')\n",
        "])\n",
        "\n",
        "model.compile(optimizer='rmsprop',\n",
        "              loss='binary_crossentropy',\n",
        "              metrics=['accuracy'])\n",
        "\n",
        "history_D3 = model.fit(x_train,\n",
        "                       y_train,\n",
        "                       epochs=3,\n",
        "                       batch_size=512)"
      ],
      "metadata": {
        "colab": {
          "base_uri": "https://localhost:8080/"
        },
        "id": "DrOBkrLm4lpM",
        "outputId": "28373cba-7f6b-4089-89d1-9beb492cfffb"
      },
      "execution_count": 25,
      "outputs": [
        {
          "output_type": "stream",
          "name": "stdout",
          "text": [
            "Epoch 1/3\n",
            "49/49 [==============================] - 3s 35ms/step - loss: 0.6697 - accuracy: 0.7923\n",
            "Epoch 2/3\n",
            "49/49 [==============================] - 2s 31ms/step - loss: 0.4425 - accuracy: 0.8908\n",
            "Epoch 3/3\n",
            "49/49 [==============================] - 1s 27ms/step - loss: 0.3665 - accuracy: 0.9093\n"
          ]
        }
      ]
    },
    {
      "cell_type": "code",
      "source": [
        "results3= model.evaluate(x_test,y_test)"
      ],
      "metadata": {
        "colab": {
          "base_uri": "https://localhost:8080/"
        },
        "id": "RlXcE-ir4rEl",
        "outputId": "d89e3c05-9d9e-4152-abc3-c6f18c519199"
      },
      "execution_count": 26,
      "outputs": [
        {
          "output_type": "stream",
          "name": "stdout",
          "text": [
            "782/782 [==============================] - 3s 3ms/step - loss: 0.4236 - accuracy: 0.8791\n"
          ]
        }
      ]
    },
    {
      "cell_type": "markdown",
      "source": [
        "**The third model built had an accuracy on the test set of 87.91%.**"
      ],
      "metadata": {
        "id": "BBwJgvUXAxge"
      }
    },
    {
      "cell_type": "markdown",
      "source": [
        "\n",
        "**Using a trained model to generate predictions on new data**"
      ],
      "metadata": {
        "id": "hj_tKpDwY6Mp"
      }
    },
    {
      "cell_type": "code",
      "source": [
        "model.predict(x_test)"
      ],
      "metadata": {
        "colab": {
          "base_uri": "https://localhost:8080/"
        },
        "id": "6HqcCyElY6ca",
        "outputId": "d8b6beb2-5cb0-40b3-ac0c-4b59c5c98a78"
      },
      "execution_count": 27,
      "outputs": [
        {
          "output_type": "stream",
          "name": "stdout",
          "text": [
            "782/782 [==============================] - 2s 3ms/step\n"
          ]
        },
        {
          "output_type": "execute_result",
          "data": {
            "text/plain": [
              "array([[0.14068909],\n",
              "       [0.99819803],\n",
              "       [0.80112803],\n",
              "       ...,\n",
              "       [0.07001937],\n",
              "       [0.05416632],\n",
              "       [0.43410236]], dtype=float32)"
            ]
          },
          "metadata": {},
          "execution_count": 27
        }
      ]
    },
    {
      "cell_type": "markdown",
      "source": [
        "**Model-4 - 2 hidden layer 64 nodes**"
      ],
      "metadata": {
        "id": "myIbpEkL40N4"
      }
    },
    {
      "cell_type": "code",
      "source": [
        "model = keras.Sequential([\n",
        "    layers.Dense(64,activation='relu',input_shape=(10000,)),\n",
        "    layers.Dropout(rate=0.5),\n",
        "    layers.Dense(64,activation='relu'),\n",
        "    layers.Dropout(rate=0.5),\n",
        "    layers.Dense(1,activation='sigmoid')\n",
        "])\n",
        "\n",
        "model.compile(optimizer='rmsprop',\n",
        "              loss='binary_crossentropy',\n",
        "              metrics=['accuracy'])\n",
        "\n",
        "history4 = model.fit(partial_x_train,\n",
        "                       partial_y_train,\n",
        "                       epochs=50,\n",
        "                       batch_size=256,\n",
        "                       validation_data=(x_val,y_val))"
      ],
      "metadata": {
        "colab": {
          "base_uri": "https://localhost:8080/"
        },
        "id": "jboYSkHJ41qs",
        "outputId": "156aeb2f-f962-4ffe-b974-ffa435d69280"
      },
      "execution_count": 28,
      "outputs": [
        {
          "output_type": "stream",
          "name": "stdout",
          "text": [
            "Epoch 1/50\n",
            "59/59 [==============================] - 3s 34ms/step - loss: 0.4993 - accuracy: 0.7623 - val_loss: 0.3148 - val_accuracy: 0.8768\n",
            "Epoch 2/50\n",
            "59/59 [==============================] - 2s 26ms/step - loss: 0.2934 - accuracy: 0.8892 - val_loss: 0.2836 - val_accuracy: 0.8855\n",
            "Epoch 3/50\n",
            "59/59 [==============================] - 2s 35ms/step - loss: 0.2194 - accuracy: 0.9186 - val_loss: 0.2802 - val_accuracy: 0.8881\n",
            "Epoch 4/50\n",
            "59/59 [==============================] - 2s 36ms/step - loss: 0.1701 - accuracy: 0.9383 - val_loss: 0.2988 - val_accuracy: 0.8834\n",
            "Epoch 5/50\n",
            "59/59 [==============================] - 2s 29ms/step - loss: 0.1346 - accuracy: 0.9543 - val_loss: 0.3188 - val_accuracy: 0.8871\n",
            "Epoch 6/50\n",
            "59/59 [==============================] - 1s 23ms/step - loss: 0.1043 - accuracy: 0.9651 - val_loss: 0.3864 - val_accuracy: 0.8832\n",
            "Epoch 7/50\n",
            "59/59 [==============================] - 1s 23ms/step - loss: 0.0843 - accuracy: 0.9705 - val_loss: 0.4090 - val_accuracy: 0.8833\n",
            "Epoch 8/50\n",
            "59/59 [==============================] - 1s 23ms/step - loss: 0.0668 - accuracy: 0.9793 - val_loss: 0.4394 - val_accuracy: 0.8797\n",
            "Epoch 9/50\n",
            "59/59 [==============================] - 2s 29ms/step - loss: 0.0544 - accuracy: 0.9829 - val_loss: 0.4832 - val_accuracy: 0.8771\n",
            "Epoch 10/50\n",
            "59/59 [==============================] - 2s 29ms/step - loss: 0.0421 - accuracy: 0.9864 - val_loss: 0.5536 - val_accuracy: 0.8789\n",
            "Epoch 11/50\n",
            "59/59 [==============================] - 1s 24ms/step - loss: 0.0349 - accuracy: 0.9898 - val_loss: 0.6082 - val_accuracy: 0.8789\n",
            "Epoch 12/50\n",
            "59/59 [==============================] - 2s 29ms/step - loss: 0.0333 - accuracy: 0.9903 - val_loss: 0.6525 - val_accuracy: 0.8812\n",
            "Epoch 13/50\n",
            "59/59 [==============================] - 2s 28ms/step - loss: 0.0286 - accuracy: 0.9932 - val_loss: 0.7070 - val_accuracy: 0.8810\n",
            "Epoch 14/50\n",
            "59/59 [==============================] - 1s 23ms/step - loss: 0.0307 - accuracy: 0.9922 - val_loss: 0.7025 - val_accuracy: 0.8793\n",
            "Epoch 15/50\n",
            "59/59 [==============================] - 2s 28ms/step - loss: 0.0285 - accuracy: 0.9935 - val_loss: 0.7466 - val_accuracy: 0.8780\n",
            "Epoch 16/50\n",
            "59/59 [==============================] - 1s 23ms/step - loss: 0.0258 - accuracy: 0.9929 - val_loss: 0.7615 - val_accuracy: 0.8792\n",
            "Epoch 17/50\n",
            "59/59 [==============================] - 1s 23ms/step - loss: 0.0196 - accuracy: 0.9939 - val_loss: 0.8029 - val_accuracy: 0.8790\n",
            "Epoch 18/50\n",
            "59/59 [==============================] - 3s 48ms/step - loss: 0.0250 - accuracy: 0.9944 - val_loss: 0.8000 - val_accuracy: 0.8799\n",
            "Epoch 19/50\n",
            "59/59 [==============================] - 1s 24ms/step - loss: 0.0217 - accuracy: 0.9953 - val_loss: 0.8871 - val_accuracy: 0.8777\n",
            "Epoch 20/50\n",
            "59/59 [==============================] - 2s 32ms/step - loss: 0.0235 - accuracy: 0.9938 - val_loss: 0.8658 - val_accuracy: 0.8785\n",
            "Epoch 21/50\n",
            "59/59 [==============================] - 1s 25ms/step - loss: 0.0234 - accuracy: 0.9957 - val_loss: 0.8597 - val_accuracy: 0.8712\n",
            "Epoch 22/50\n",
            "59/59 [==============================] - 1s 23ms/step - loss: 0.0186 - accuracy: 0.9948 - val_loss: 0.8925 - val_accuracy: 0.8775\n",
            "Epoch 23/50\n",
            "59/59 [==============================] - 2s 29ms/step - loss: 0.0211 - accuracy: 0.9956 - val_loss: 0.8920 - val_accuracy: 0.8783\n",
            "Epoch 24/50\n",
            "59/59 [==============================] - 1s 23ms/step - loss: 0.0173 - accuracy: 0.9955 - val_loss: 0.9252 - val_accuracy: 0.8775\n",
            "Epoch 25/50\n",
            "59/59 [==============================] - 2s 29ms/step - loss: 0.0145 - accuracy: 0.9963 - val_loss: 0.9661 - val_accuracy: 0.8763\n",
            "Epoch 26/50\n",
            "59/59 [==============================] - 2s 29ms/step - loss: 0.0208 - accuracy: 0.9953 - val_loss: 0.9450 - val_accuracy: 0.8766\n",
            "Epoch 27/50\n",
            "59/59 [==============================] - 1s 25ms/step - loss: 0.0211 - accuracy: 0.9961 - val_loss: 0.9742 - val_accuracy: 0.8793\n",
            "Epoch 28/50\n",
            "59/59 [==============================] - 2s 32ms/step - loss: 0.0133 - accuracy: 0.9965 - val_loss: 1.0547 - val_accuracy: 0.8779\n",
            "Epoch 29/50\n",
            "59/59 [==============================] - 1s 24ms/step - loss: 0.0193 - accuracy: 0.9959 - val_loss: 1.0038 - val_accuracy: 0.8741\n",
            "Epoch 30/50\n",
            "59/59 [==============================] - 1s 23ms/step - loss: 0.0135 - accuracy: 0.9963 - val_loss: 1.0519 - val_accuracy: 0.8774\n",
            "Epoch 31/50\n",
            "59/59 [==============================] - 1s 24ms/step - loss: 0.0144 - accuracy: 0.9969 - val_loss: 1.0621 - val_accuracy: 0.8804\n",
            "Epoch 32/50\n",
            "59/59 [==============================] - 1s 23ms/step - loss: 0.0149 - accuracy: 0.9965 - val_loss: 1.0487 - val_accuracy: 0.8802\n",
            "Epoch 33/50\n",
            "59/59 [==============================] - 1s 23ms/step - loss: 0.0203 - accuracy: 0.9965 - val_loss: 0.9745 - val_accuracy: 0.8785\n",
            "Epoch 34/50\n",
            "59/59 [==============================] - 1s 24ms/step - loss: 0.0190 - accuracy: 0.9961 - val_loss: 0.9819 - val_accuracy: 0.8780\n",
            "Epoch 35/50\n",
            "59/59 [==============================] - 2s 29ms/step - loss: 0.0128 - accuracy: 0.9973 - val_loss: 1.0960 - val_accuracy: 0.8769\n",
            "Epoch 36/50\n",
            "59/59 [==============================] - 2s 32ms/step - loss: 0.0154 - accuracy: 0.9962 - val_loss: 1.0859 - val_accuracy: 0.8782\n",
            "Epoch 37/50\n",
            "59/59 [==============================] - 2s 29ms/step - loss: 0.0145 - accuracy: 0.9976 - val_loss: 1.1871 - val_accuracy: 0.8788\n",
            "Epoch 38/50\n",
            "59/59 [==============================] - 1s 23ms/step - loss: 0.0155 - accuracy: 0.9965 - val_loss: 1.1160 - val_accuracy: 0.8765\n",
            "Epoch 39/50\n",
            "59/59 [==============================] - 1s 24ms/step - loss: 0.0174 - accuracy: 0.9968 - val_loss: 1.1733 - val_accuracy: 0.8774\n",
            "Epoch 40/50\n",
            "59/59 [==============================] - 2s 29ms/step - loss: 0.0153 - accuracy: 0.9971 - val_loss: 1.2270 - val_accuracy: 0.8735\n",
            "Epoch 41/50\n",
            "59/59 [==============================] - 1s 23ms/step - loss: 0.0101 - accuracy: 0.9977 - val_loss: 1.2852 - val_accuracy: 0.8763\n",
            "Epoch 42/50\n",
            "59/59 [==============================] - 1s 24ms/step - loss: 0.0170 - accuracy: 0.9973 - val_loss: 1.2304 - val_accuracy: 0.8755\n",
            "Epoch 43/50\n",
            "59/59 [==============================] - 1s 23ms/step - loss: 0.0177 - accuracy: 0.9974 - val_loss: 1.1930 - val_accuracy: 0.8757\n",
            "Epoch 44/50\n",
            "59/59 [==============================] - 2s 33ms/step - loss: 0.0131 - accuracy: 0.9971 - val_loss: 1.1938 - val_accuracy: 0.8747\n",
            "Epoch 45/50\n",
            "59/59 [==============================] - 1s 24ms/step - loss: 0.0135 - accuracy: 0.9974 - val_loss: 1.2073 - val_accuracy: 0.8750\n",
            "Epoch 46/50\n",
            "59/59 [==============================] - 1s 23ms/step - loss: 0.0096 - accuracy: 0.9976 - val_loss: 1.1975 - val_accuracy: 0.8759\n",
            "Epoch 47/50\n",
            "59/59 [==============================] - 2s 29ms/step - loss: 0.0111 - accuracy: 0.9975 - val_loss: 1.3178 - val_accuracy: 0.8757\n",
            "Epoch 48/50\n",
            "59/59 [==============================] - 2s 29ms/step - loss: 0.0133 - accuracy: 0.9974 - val_loss: 1.2039 - val_accuracy: 0.8751\n",
            "Epoch 49/50\n",
            "59/59 [==============================] - 2s 29ms/step - loss: 0.0082 - accuracy: 0.9983 - val_loss: 1.4752 - val_accuracy: 0.8691\n",
            "Epoch 50/50\n",
            "59/59 [==============================] - 1s 23ms/step - loss: 0.0110 - accuracy: 0.9980 - val_loss: 1.2385 - val_accuracy: 0.8754\n"
          ]
        }
      ]
    },
    {
      "cell_type": "code",
      "source": [
        "history_dict_4 = history4.history"
      ],
      "metadata": {
        "id": "z_-iH-SQ5TFD"
      },
      "execution_count": 29,
      "outputs": []
    },
    {
      "cell_type": "markdown",
      "source": [
        "**plotting the training and validation loss**"
      ],
      "metadata": {
        "id": "IBxEJuIZ5VDm"
      }
    },
    {
      "cell_type": "code",
      "source": [
        "loss = history_dict_4['loss']\n",
        "val_loss = history_dict_4['val_loss']\n",
        "epochs = range(1, len(loss)+1)\n",
        "plt.plot(epochs,loss,color='grey',label='Training Loss')\n",
        "plt.plot(epochs,val_loss,color='blue',linestyle='dashed',label='Validation Loss')\n",
        "plt.xlabel('Epochs')\n",
        "plt.ylabel('Loss')\n",
        "plt.legend()\n",
        "plt.show()"
      ],
      "metadata": {
        "colab": {
          "base_uri": "https://localhost:8080/",
          "height": 279
        },
        "id": "q1ku4aoJ5WE2",
        "outputId": "b4016fa5-f478-4af6-ed74-406f316cebe0"
      },
      "execution_count": 30,
      "outputs": [
        {
          "output_type": "display_data",
          "data": {
            "text/plain": [
              "<Figure size 432x288 with 1 Axes>"
            ],
            "image/png": "[encoded data removed]"
          },
          "metadata": {
            "needs_background": "light"
          }
        }
      ]
    },
    {
      "cell_type": "markdown",
      "source": [
        "Based on the loss graph above, we can conclude that \"3\" is the right number of epochs because the validation loss starts to rise after the third epoch."
      ],
      "metadata": {
        "id": "qYvensNP5g9g"
      }
    },
    {
      "cell_type": "markdown",
      "source": [
        "**plotting the training and validation accuracy**"
      ],
      "metadata": {
        "id": "aS7ujQpd5uQt"
      }
    },
    {
      "cell_type": "code",
      "source": [
        "accuracy = history_dict_4['accuracy']\n",
        "val_accuracy = history_dict_4['val_accuracy']\n",
        "epochs = range(1, len(accuracy)+1)\n",
        "plt.plot(epochs,accuracy,color='grey',label='Training Accuracy')\n",
        "plt.plot(epochs,val_accuracy,color='red',linestyle='dashed',label='Validation Accuracy')\n",
        "plt.xlabel('Epochs')\n",
        "plt.ylabel('Accuracy')\n",
        "plt.legend()\n",
        "plt.show()"
      ],
      "metadata": {
        "colab": {
          "base_uri": "https://localhost:8080/",
          "height": 279
        },
        "id": "_Prl0gzg5u0P",
        "outputId": "1a2536d6-0df7-4fae-a5f3-f0735627e0cb"
      },
      "execution_count": 31,
      "outputs": [
        {
          "output_type": "display_data",
          "data": {
            "text/plain": [
              "<Figure size 432x288 with 1 Axes>"
            ],
            "image/png": "[encoded data removed]"
          },
          "metadata": {
            "needs_background": "light"
          }
        }
      ]
    },
    {
      "cell_type": "markdown",
      "source": [
        "The \"Accuracy Plot\" confirms the same thing; here, the accuracy peaked at the third epoch."
      ],
      "metadata": {
        "id": "U2oVbAFq54OL"
      }
    },
    {
      "cell_type": "markdown",
      "source": [
        "**Retraining the model with 3 epochs**"
      ],
      "metadata": {
        "id": "VQeqDu4_56pV"
      }
    },
    {
      "cell_type": "code",
      "source": [
        "model = keras.Sequential([\n",
        "    layers.Dense(64,activation='relu',input_shape=(10000,)),\n",
        "    layers.Dropout(rate=0.5),\n",
        "    layers.Dense(64,activation='relu'),\n",
        "    layers.Dropout(rate=0.5),\n",
        "    layers.Dense(1,activation='sigmoid')\n",
        "])\n",
        "\n",
        "model.compile(optimizer='rmsprop',\n",
        "              loss='binary_crossentropy',\n",
        "              metrics=['accuracy'])\n",
        "\n",
        "history5 = model.fit(x_train,\n",
        "                       y_train,\n",
        "                       epochs=3,\n",
        "                       batch_size=256)"
      ],
      "metadata": {
        "colab": {
          "base_uri": "https://localhost:8080/"
        },
        "id": "1ho30cBM58Rn",
        "outputId": "a7dbcce3-acc9-4efc-ad7c-5b990a417a3d"
      },
      "execution_count": 32,
      "outputs": [
        {
          "output_type": "stream",
          "name": "stdout",
          "text": [
            "Epoch 1/3\n",
            "98/98 [==============================] - 3s 18ms/step - loss: 0.4460 - accuracy: 0.7940\n",
            "Epoch 2/3\n",
            "98/98 [==============================] - 2s 17ms/step - loss: 0.2672 - accuracy: 0.8987\n",
            "Epoch 3/3\n",
            "98/98 [==============================] - 2s 18ms/step - loss: 0.2082 - accuracy: 0.9237\n"
          ]
        }
      ]
    },
    {
      "cell_type": "code",
      "source": [
        "results4 = model.evaluate(x_test,y_test)"
      ],
      "metadata": {
        "colab": {
          "base_uri": "https://localhost:8080/"
        },
        "id": "RtnbOTXi6Bdq",
        "outputId": "c1c2e424-8df1-4ad2-88b5-1bda01e2196b"
      },
      "execution_count": 33,
      "outputs": [
        {
          "output_type": "stream",
          "name": "stdout",
          "text": [
            "782/782 [==============================] - 3s 3ms/step - loss: 0.3169 - accuracy: 0.8718\n"
          ]
        }
      ]
    },
    {
      "cell_type": "markdown",
      "source": [
        "**The fourth model built had an accuracy on the test set of 87.18%**"
      ],
      "metadata": {
        "id": "6V-gTIIT6EjT"
      }
    },
    {
      "cell_type": "markdown",
      "source": [
        "**Model 5 - Hidden layers=1, Nodes=32**"
      ],
      "metadata": {
        "id": "2r1Y8vz96JCR"
      }
    },
    {
      "cell_type": "code",
      "source": [
        "model = keras.Sequential([\n",
        "    layers.Dense(32,activation='tanh',input_shape=(10000,)),\n",
        "    layers.Dropout(rate=0.3),\n",
        "    layers.Dense(1,activation='sigmoid')\n",
        "])\n",
        "\n",
        "model.compile(optimizer='adam',\n",
        "              loss='mse',\n",
        "              metrics=['accuracy'])\n",
        "\n",
        "history6 = model.fit(partial_x_train,\n",
        "                       partial_y_train,\n",
        "                       epochs=50,\n",
        "                       batch_size=512,\n",
        "                       validation_data=(x_val,y_val))"
      ],
      "metadata": {
        "colab": {
          "base_uri": "https://localhost:8080/"
        },
        "id": "3wasecMNBXUe",
        "outputId": "be8d2030-6ebd-469e-f253-263ef7a9d154"
      },
      "execution_count": 34,
      "outputs": [
        {
          "output_type": "stream",
          "name": "stdout",
          "text": [
            "Epoch 1/50\n",
            "30/30 [==============================] - 2s 46ms/step - loss: 0.1578 - accuracy: 0.7946 - val_loss: 0.1093 - val_accuracy: 0.8728\n",
            "Epoch 2/50\n",
            "30/30 [==============================] - 1s 26ms/step - loss: 0.0813 - accuracy: 0.9117 - val_loss: 0.0902 - val_accuracy: 0.8898\n",
            "Epoch 3/50\n",
            "30/30 [==============================] - 1s 33ms/step - loss: 0.0602 - accuracy: 0.9381 - val_loss: 0.0851 - val_accuracy: 0.8888\n",
            "Epoch 4/50\n",
            "30/30 [==============================] - 1s 36ms/step - loss: 0.0482 - accuracy: 0.9530 - val_loss: 0.0841 - val_accuracy: 0.8863\n",
            "Epoch 5/50\n",
            "30/30 [==============================] - 1s 34ms/step - loss: 0.0390 - accuracy: 0.9651 - val_loss: 0.0833 - val_accuracy: 0.8860\n",
            "Epoch 6/50\n",
            "30/30 [==============================] - 1s 26ms/step - loss: 0.0325 - accuracy: 0.9728 - val_loss: 0.0848 - val_accuracy: 0.8818\n",
            "Epoch 7/50\n",
            "30/30 [==============================] - 1s 25ms/step - loss: 0.0270 - accuracy: 0.9799 - val_loss: 0.0858 - val_accuracy: 0.8817\n",
            "Epoch 8/50\n",
            "30/30 [==============================] - 1s 29ms/step - loss: 0.0228 - accuracy: 0.9844 - val_loss: 0.0873 - val_accuracy: 0.8794\n",
            "Epoch 9/50\n",
            "30/30 [==============================] - 1s 31ms/step - loss: 0.0194 - accuracy: 0.9879 - val_loss: 0.0890 - val_accuracy: 0.8775\n",
            "Epoch 10/50\n",
            "30/30 [==============================] - 1s 30ms/step - loss: 0.0170 - accuracy: 0.9893 - val_loss: 0.0904 - val_accuracy: 0.8786\n",
            "Epoch 11/50\n",
            "30/30 [==============================] - 1s 27ms/step - loss: 0.0145 - accuracy: 0.9917 - val_loss: 0.0919 - val_accuracy: 0.8768\n",
            "Epoch 12/50\n",
            "30/30 [==============================] - 1s 30ms/step - loss: 0.0125 - accuracy: 0.9934 - val_loss: 0.0937 - val_accuracy: 0.8752\n",
            "Epoch 13/50\n",
            "30/30 [==============================] - 1s 25ms/step - loss: 0.0111 - accuracy: 0.9941 - val_loss: 0.0951 - val_accuracy: 0.8738\n",
            "Epoch 14/50\n",
            "30/30 [==============================] - 1s 31ms/step - loss: 0.0100 - accuracy: 0.9951 - val_loss: 0.0960 - val_accuracy: 0.8735\n",
            "Epoch 15/50\n",
            "30/30 [==============================] - 1s 31ms/step - loss: 0.0090 - accuracy: 0.9955 - val_loss: 0.0970 - val_accuracy: 0.8731\n",
            "Epoch 16/50\n",
            "30/30 [==============================] - 1s 25ms/step - loss: 0.0080 - accuracy: 0.9961 - val_loss: 0.0977 - val_accuracy: 0.8731\n",
            "Epoch 17/50\n",
            "30/30 [==============================] - 1s 32ms/step - loss: 0.0073 - accuracy: 0.9963 - val_loss: 0.0992 - val_accuracy: 0.8719\n",
            "Epoch 18/50\n",
            "30/30 [==============================] - 1s 30ms/step - loss: 0.0066 - accuracy: 0.9965 - val_loss: 0.0999 - val_accuracy: 0.8699\n",
            "Epoch 19/50\n",
            "30/30 [==============================] - 1s 30ms/step - loss: 0.0061 - accuracy: 0.9965 - val_loss: 0.1011 - val_accuracy: 0.8700\n",
            "Epoch 20/50\n",
            "30/30 [==============================] - 1s 30ms/step - loss: 0.0056 - accuracy: 0.9970 - val_loss: 0.1015 - val_accuracy: 0.8704\n",
            "Epoch 21/50\n",
            "30/30 [==============================] - 1s 30ms/step - loss: 0.0053 - accuracy: 0.9969 - val_loss: 0.1024 - val_accuracy: 0.8686\n",
            "Epoch 22/50\n",
            "30/30 [==============================] - 1s 26ms/step - loss: 0.0050 - accuracy: 0.9970 - val_loss: 0.1035 - val_accuracy: 0.8672\n",
            "Epoch 23/50\n",
            "30/30 [==============================] - 1s 27ms/step - loss: 0.0047 - accuracy: 0.9971 - val_loss: 0.1037 - val_accuracy: 0.8681\n",
            "Epoch 24/50\n",
            "30/30 [==============================] - 1s 31ms/step - loss: 0.0045 - accuracy: 0.9971 - val_loss: 0.1046 - val_accuracy: 0.8679\n",
            "Epoch 25/50\n",
            "30/30 [==============================] - 1s 30ms/step - loss: 0.0043 - accuracy: 0.9971 - val_loss: 0.1053 - val_accuracy: 0.8670\n",
            "Epoch 26/50\n",
            "30/30 [==============================] - 1s 33ms/step - loss: 0.0042 - accuracy: 0.9971 - val_loss: 0.1056 - val_accuracy: 0.8670\n",
            "Epoch 27/50\n",
            "30/30 [==============================] - 1s 30ms/step - loss: 0.0041 - accuracy: 0.9971 - val_loss: 0.1061 - val_accuracy: 0.8668\n",
            "Epoch 28/50\n",
            "30/30 [==============================] - 1s 25ms/step - loss: 0.0039 - accuracy: 0.9971 - val_loss: 0.1070 - val_accuracy: 0.8657\n",
            "Epoch 29/50\n",
            "30/30 [==============================] - 1s 26ms/step - loss: 0.0039 - accuracy: 0.9971 - val_loss: 0.1068 - val_accuracy: 0.8657\n",
            "Epoch 30/50\n",
            "30/30 [==============================] - 1s 26ms/step - loss: 0.0037 - accuracy: 0.9972 - val_loss: 0.1077 - val_accuracy: 0.8646\n",
            "Epoch 31/50\n",
            "30/30 [==============================] - 1s 28ms/step - loss: 0.0036 - accuracy: 0.9973 - val_loss: 0.1080 - val_accuracy: 0.8642\n",
            "Epoch 32/50\n",
            "30/30 [==============================] - 1s 31ms/step - loss: 0.0035 - accuracy: 0.9973 - val_loss: 0.1087 - val_accuracy: 0.8641\n",
            "Epoch 33/50\n",
            "30/30 [==============================] - 1s 35ms/step - loss: 0.0034 - accuracy: 0.9974 - val_loss: 0.1089 - val_accuracy: 0.8643\n",
            "Epoch 34/50\n",
            "30/30 [==============================] - 1s 30ms/step - loss: 0.0033 - accuracy: 0.9974 - val_loss: 0.1096 - val_accuracy: 0.8644\n",
            "Epoch 35/50\n",
            "30/30 [==============================] - 1s 25ms/step - loss: 0.0033 - accuracy: 0.9974 - val_loss: 0.1097 - val_accuracy: 0.8648\n",
            "Epoch 36/50\n",
            "30/30 [==============================] - 1s 28ms/step - loss: 0.0032 - accuracy: 0.9975 - val_loss: 0.1100 - val_accuracy: 0.8650\n",
            "Epoch 37/50\n",
            "30/30 [==============================] - 1s 26ms/step - loss: 0.0031 - accuracy: 0.9975 - val_loss: 0.1103 - val_accuracy: 0.8655\n",
            "Epoch 38/50\n",
            "30/30 [==============================] - 1s 26ms/step - loss: 0.0031 - accuracy: 0.9975 - val_loss: 0.1108 - val_accuracy: 0.8651\n",
            "Epoch 39/50\n",
            "30/30 [==============================] - 1s 30ms/step - loss: 0.0030 - accuracy: 0.9975 - val_loss: 0.1110 - val_accuracy: 0.8644\n",
            "Epoch 40/50\n",
            "30/30 [==============================] - 1s 31ms/step - loss: 0.0030 - accuracy: 0.9975 - val_loss: 0.1113 - val_accuracy: 0.8637\n",
            "Epoch 41/50\n",
            "30/30 [==============================] - 1s 26ms/step - loss: 0.0029 - accuracy: 0.9975 - val_loss: 0.1114 - val_accuracy: 0.8632\n",
            "Epoch 42/50\n",
            "30/30 [==============================] - 1s 26ms/step - loss: 0.0029 - accuracy: 0.9976 - val_loss: 0.1123 - val_accuracy: 0.8629\n",
            "Epoch 43/50\n",
            "30/30 [==============================] - 1s 46ms/step - loss: 0.0028 - accuracy: 0.9977 - val_loss: 0.1124 - val_accuracy: 0.8629\n",
            "Epoch 44/50\n",
            "30/30 [==============================] - 4s 130ms/step - loss: 0.0027 - accuracy: 0.9977 - val_loss: 0.1126 - val_accuracy: 0.8632\n",
            "Epoch 45/50\n",
            "30/30 [==============================] - 2s 61ms/step - loss: 0.0027 - accuracy: 0.9977 - val_loss: 0.1128 - val_accuracy: 0.8622\n",
            "Epoch 46/50\n",
            "30/30 [==============================] - 2s 56ms/step - loss: 0.0027 - accuracy: 0.9977 - val_loss: 0.1130 - val_accuracy: 0.8622\n",
            "Epoch 47/50\n",
            "30/30 [==============================] - 1s 48ms/step - loss: 0.0027 - accuracy: 0.9977 - val_loss: 0.1134 - val_accuracy: 0.8618\n",
            "Epoch 48/50\n",
            "30/30 [==============================] - 1s 47ms/step - loss: 0.0027 - accuracy: 0.9977 - val_loss: 0.1139 - val_accuracy: 0.8616\n",
            "Epoch 49/50\n",
            "30/30 [==============================] - 2s 49ms/step - loss: 0.0026 - accuracy: 0.9977 - val_loss: 0.1141 - val_accuracy: 0.8616\n",
            "Epoch 50/50\n",
            "30/30 [==============================] - 1s 32ms/step - loss: 0.0026 - accuracy: 0.9977 - val_loss: 0.1140 - val_accuracy: 0.8616\n"
          ]
        }
      ]
    },
    {
      "cell_type": "code",
      "source": [
        "history_dict_5=history6.history"
      ],
      "metadata": {
        "id": "jW3y4ZQWBjmU"
      },
      "execution_count": 35,
      "outputs": []
    },
    {
      "cell_type": "markdown",
      "source": [
        "**plotting the training and validation loss**"
      ],
      "metadata": {
        "id": "uNJAxqDhBmTj"
      }
    },
    {
      "cell_type": "code",
      "source": [
        "loss = history_dict_5['loss']\n",
        "val_loss = history_dict_5['val_loss']\n",
        "epochs = range(1, len(loss)+1)\n",
        "plt.plot(epochs,loss,color='grey',label='Training Loss')\n",
        "plt.plot(epochs,val_loss,color='blue',linestyle='dashed',label='Validation Loss')\n",
        "plt.xlabel('Epochs')\n",
        "plt.ylabel('Loss')\n",
        "plt.legend()\n",
        "plt.show()"
      ],
      "metadata": {
        "colab": {
          "base_uri": "https://localhost:8080/",
          "height": 279
        },
        "id": "RXYAkVbeBnjV",
        "outputId": "d8fef4de-f14d-4925-fa58-caa5894a5fd0"
      },
      "execution_count": 36,
      "outputs": [
        {
          "output_type": "display_data",
          "data": {
            "text/plain": [
              "<Figure size 432x288 with 1 Axes>"
            ],
            "image/png": "[encoded data removed]"
          },
          "metadata": {
            "needs_background": "light"
          }
        }
      ]
    },
    {
      "cell_type": "markdown",
      "source": [
        "Since the validation loss starts to increase after the fifth epoch, we can assume the right number of epochs to be \"5\" from the loss curve above."
      ],
      "metadata": {
        "id": "j-GtLf84BzI3"
      }
    },
    {
      "cell_type": "markdown",
      "source": [
        "**plotting the training and validation accuracy**"
      ],
      "metadata": {
        "id": "VZAfWBoHB1kc"
      }
    },
    {
      "cell_type": "code",
      "source": [
        "accuracy = history_dict_5['accuracy']\n",
        "val_accuracy = history_dict_5['val_accuracy']\n",
        "epochs = range(1, len(accuracy)+1)\n",
        "plt.plot(epochs,accuracy,color='grey',label='Training Accuracy')\n",
        "plt.plot(epochs,val_accuracy,color='red',linestyle='dashed',label='Validation Accuracy')\n",
        "plt.xlabel('Epochs')\n",
        "plt.ylabel('Accuracy')\n",
        "plt.legend()\n",
        "plt.show()"
      ],
      "metadata": {
        "colab": {
          "base_uri": "https://localhost:8080/",
          "height": 279
        },
        "id": "WlKqt4BvB2vA",
        "outputId": "bc0e1184-25f5-4881-8347-7491d629a8dc"
      },
      "execution_count": 37,
      "outputs": [
        {
          "output_type": "display_data",
          "data": {
            "text/plain": [
              "<Figure size 432x288 with 1 Axes>"
            ],
            "image/png": "[encoded data removed]"
          },
          "metadata": {
            "needs_background": "light"
          }
        }
      ]
    },
    {
      "cell_type": "markdown",
      "source": [
        "The \"Accuracy Plot\" confirms the same thing; here, the accuracy peaked at the fifth epoch."
      ],
      "metadata": {
        "id": "S4JEJNIeB-Wa"
      }
    },
    {
      "cell_type": "markdown",
      "source": [
        "**Retraining the model with 5 epochs**"
      ],
      "metadata": {
        "id": "7xGMArZhCAdF"
      }
    },
    {
      "cell_type": "code",
      "source": [
        "model = keras.Sequential([\n",
        "    layers.Dense(32,activation='tanh',input_shape=(10000,)),\n",
        "    layers.Dropout(rate=0.3),\n",
        "    layers.Dense(1,activation='sigmoid')\n",
        "])\n",
        "\n",
        "model.compile(optimizer='adam',\n",
        "              loss='mse',\n",
        "              metrics=['accuracy'])\n",
        "\n",
        "history7 = model.fit(x_train,\n",
        "                       y_train,\n",
        "                       epochs=5,\n",
        "                       batch_size=512)"
      ],
      "metadata": {
        "colab": {
          "base_uri": "https://localhost:8080/"
        },
        "id": "VozS6OLcCBnU",
        "outputId": "a4f773fa-4193-4916-882e-5913fca27330"
      },
      "execution_count": 38,
      "outputs": [
        {
          "output_type": "stream",
          "name": "stdout",
          "text": [
            "Epoch 1/5\n",
            "49/49 [==============================] - 2s 24ms/step - loss: 0.1383 - accuracy: 0.8268\n",
            "Epoch 2/5\n",
            "49/49 [==============================] - 1s 21ms/step - loss: 0.0734 - accuracy: 0.9154\n",
            "Epoch 3/5\n",
            "49/49 [==============================] - 1s 19ms/step - loss: 0.0566 - accuracy: 0.9368\n",
            "Epoch 4/5\n",
            "49/49 [==============================] - 1s 19ms/step - loss: 0.0463 - accuracy: 0.9505\n",
            "Epoch 5/5\n",
            "49/49 [==============================] - 1s 19ms/step - loss: 0.0389 - accuracy: 0.9593\n"
          ]
        }
      ]
    },
    {
      "cell_type": "code",
      "source": [
        "results5 = model.evaluate(x_test,y_test)"
      ],
      "metadata": {
        "colab": {
          "base_uri": "https://localhost:8080/"
        },
        "id": "MA1CeOvoCGYT",
        "outputId": "37d625ad-cd50-4b13-cc54-6dd7d40af761"
      },
      "execution_count": 39,
      "outputs": [
        {
          "output_type": "stream",
          "name": "stdout",
          "text": [
            "782/782 [==============================] - 2s 2ms/step - loss: 0.0918 - accuracy: 0.8752\n"
          ]
        }
      ]
    },
    {
      "cell_type": "markdown",
      "source": [
        "**The fifth built model's accuracy on the test set was 87.52%**"
      ],
      "metadata": {
        "id": "fKmeVsGfCJeL"
      }
    },
    {
      "cell_type": "markdown",
      "source": [
        "\n",
        "**Using a trained model to generate predictions on new data**"
      ],
      "metadata": {
        "id": "oCF4fi3DZGr5"
      }
    },
    {
      "cell_type": "code",
      "source": [],
      "metadata": {
        "id": "ThMz610tlJEW"
      },
      "execution_count": null,
      "outputs": []
    },
    {
      "cell_type": "code",
      "source": [
        "\n",
        "model.predict(x_test)"
      ],
      "metadata": {
        "colab": {
          "base_uri": "https://localhost:8080/"
        },
        "id": "DUqqw6JKZG41",
        "outputId": "e6f65d04-a776-4279-d30c-72196969dc67"
      },
      "execution_count": 40,
      "outputs": [
        {
          "output_type": "stream",
          "name": "stdout",
          "text": [
            "782/782 [==============================] - 2s 2ms/step\n"
          ]
        },
        {
          "output_type": "execute_result",
          "data": {
            "text/plain": [
              "array([[0.1131032 ],\n",
              "       [0.999339  ],\n",
              "       [0.7180885 ],\n",
              "       ...,\n",
              "       [0.15593083],\n",
              "       [0.08106496],\n",
              "       [0.49401113]], dtype=float32)"
            ]
          },
          "metadata": {},
          "execution_count": 40
        }
      ]
    },
    {
      "cell_type": "markdown",
      "source": [
        "***Evaluating the performance of Five different neural network models trained on the IMDB dataset ***"
      ],
      "metadata": {
        "id": "2MNhrsLDCOJJ"
      }
    },
    {
      "cell_type": "code",
      "source": [
        "loss_dict = {'Model1': 0.0859, 'Model2': 0.0834, 'Model3': 0.4236, 'Model4': 0.3169,\n",
        "             'Model5': 0.0918}\n",
        "\n",
        "# Get model names and loss values as separate lists\n",
        "models = list(loss_dict.keys())\n",
        "losses = list(loss_dict.values())\n",
        "\n",
        "# Plot the scatter plot with labels\n",
        "plt.scatter(models, losses, color='red')\n",
        "plt.title('Performance Loss')\n",
        "plt.ylabel('Loss (%)')\n",
        "\n",
        "for (xi, yi) in zip(models, losses):\n",
        "    plt.text(xi, yi, str(yi), va='bottom', ha='center')\n",
        "\n",
        "plt.show()"
      ],
      "metadata": {
        "colab": {
          "base_uri": "https://localhost:8080/",
          "height": 281
        },
        "id": "klrbu9JtCT1b",
        "outputId": "7d6e6bbf-dac5-497f-c555-4ab2d4a27435"
      },
      "execution_count": 43,
      "outputs": [
        {
          "output_type": "display_data",
          "data": {
            "text/plain": [
              "<Figure size 432x288 with 1 Axes>"
            ],
            "image/png": "[encoded data removed]"
          },
          "metadata": {
            "needs_background": "light"
          }
        }
      ]
    },
    {
      "cell_type": "code",
      "source": [
        "import matplotlib.pyplot as plt\n",
        "\n",
        "# Create a dictionary with model names as keys and accuracy values as values\n",
        "acc_dict = {'Model1': 0.8838, 'Model2': 0.8870, 'Model3': 0.8791, 'Model4': 0.8718,\n",
        "            'Model5': 0.8752}\n",
        "\n",
        "# Get model names and accuracy values as separate lists\n",
        "models = list(acc_dict.keys())\n",
        "accuracy = list(acc_dict.values())\n",
        "\n",
        "# Plot the scatter plot with labels\n",
        "plt.scatter(models, accuracy, color='blue')\n",
        "plt.title('Performance Accuracy')\n",
        "plt.ylabel('Accuracy (%)')\n",
        "\n",
        "for (xi, yi) in zip(models, accuracy):\n",
        "  plt.text(xi, yi, str(yi), va='bottom', ha='center')\n",
        "\n",
        "plt.show()"
      ],
      "metadata": {
        "colab": {
          "base_uri": "https://localhost:8080/",
          "height": 281
        },
        "id": "zIhilSlMDpNC",
        "outputId": "ce7bd503-8ca0-4bec-feef-d5282b73c883"
      },
      "execution_count": 44,
      "outputs": [
        {
          "output_type": "display_data",
          "data": {
            "text/plain": [
              "<Figure size 432x288 with 1 Axes>"
            ],
            "image/png": "[encoded data removed]"
          },
          "metadata": {
            "needs_background": "light"
          }
        }
      ]
    }
  ]
}